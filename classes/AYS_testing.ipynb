{
 "cells": [
  {
   "cell_type": "code",
   "execution_count": 1,
   "id": "1921d287-c855-4c16-8f1b-9252780512a7",
   "metadata": {},
   "outputs": [],
   "source": [
    "import random\n",
    "from tqdm.notebook import tqdm\n",
    "import numpy as np\n",
    "from IPython.display import clear_output\n",
    "from importlib import reload\n",
    "\n",
    "import gym\n",
    "import matplotlib.pyplot as plt\n",
    "import wandb\n",
    "import torch\n",
    "\n",
    "from Learning.utils import ReplayBuffer, plot, plot_test_trajectory\n",
    "import Learning.agents as ag\n",
    "import Envs.AYS.AYS_Environment as ays"
   ]
  },
  {
   "cell_type": "code",
   "execution_count": 2,
   "id": "d3a04f72-5caa-43bf-9ef7-c0e92f741a84",
   "metadata": {},
   "outputs": [
    {
     "name": "stdout",
     "output_type": "stream",
     "text": [
      "Init AYS Environment! \n",
      "Reward Type: PB \n",
      "Sustainability Boundaries [A_PB, Y_SF, S_ren]:  [3.45e+02 4.00e+13 0.00e+00]\n"
     ]
    }
   ],
   "source": [
    "UPDATE_ONLINE = False\n",
    "BATCH_SIZE = 128\n",
    "MAX_EPISODES = 2000\n",
    "RANDOM_EXPERIENCE = 0\n",
    "LEARNING_RATE = 3e-4\n",
    "BUFFER_SIZE = 10000\n",
    "REWARD_TYPE = 'PB'\n",
    "DT = 1\n",
    "SCHEDULER = (False, 1000, 0.5)\n",
    "SEED = 0\n",
    "MAX_STEPS = 600\n",
    "\n",
    "random.seed(SEED)\n",
    "np.random.seed(SEED)\n",
    "torch.manual_seed(SEED)\n",
    "\n",
    "wandbsave = False\n",
    "\n",
    "config = {\n",
    "    \"learning_rate\": LEARNING_RATE,\n",
    "    \"max_episodes\": MAX_EPISODES,\n",
    "    \"batch_size\": BATCH_SIZE, \n",
    "    \"online_updating\": UPDATE_ONLINE,\n",
    "    \"random_experience\": RANDOM_EXPERIENCE,\n",
    "    \"buffer_size\": BUFFER_SIZE,\n",
    "    \"reward_type\": REWARD_TYPE,\n",
    "    \"dt\": DT,\n",
    "    \"scheduler\": SCHEDULER,\n",
    "    \"seed\": SEED\n",
    "}\n",
    "reload(ays)\n",
    "env = ays.AYS_Environment(dt=DT, reward_type=REWARD_TYPE)\n",
    "state_dim = len(env.observation_space)\n",
    "action_dim = len(env.action_space)\n",
    "\n",
    "reload(ag)\n",
    "memory = ReplayBuffer(BUFFER_SIZE)\n",
    "agent = ag.ActorCritic(state_dim, action_dim, alpha=LEARNING_RATE)\n",
    "\n",
    "scheduler = torch.optim.lr_scheduler.StepLR(agent.optimizer, step_size=SCHEDULER[1], gamma=SCHEDULER[2])\n",
    "\n",
    "if wandbsave:\n",
    "    wandb.init(name=\"AYS_PPO2_policy_cost\",config=config,\n",
    "               entity=\"climate_policy_optim\",  project=\"AYS_learning\")\n",
    "    wandb.watch(agent.ac_net)"
   ]
  },
  {
   "cell_type": "code",
   "execution_count": 3,
   "id": "eb3f1eba-cec8-4ad8-93f0-4890234f411f",
   "metadata": {
    "tags": []
   },
   "outputs": [
    {
     "data": {
      "image/png": "[encoded data removed]",
      "text/plain": [
       "<Figure size 1440x360 with 1 Axes>"
      ]
     },
     "metadata": {
      "needs_background": "light"
     },
     "output_type": "display_data"
    }
   ],
   "source": [
    "rewards = []\n",
    "mean_rewards = []\n",
    "frame_idx = 0\n",
    "\n",
    "for episodes in tqdm(range(MAX_EPISODES)):\n",
    "    state = env.reset()\n",
    "    episode_reward = 0\n",
    "    done = False\n",
    "\n",
    "    for i in range(MAX_STEPS):\n",
    "        if episodes>RANDOM_EXPERIENCE:\n",
    "            action = agent.get_action(state)\n",
    "        else:\n",
    "            action = np.random.choice(action_dim)\n",
    "            \n",
    "        next_state, reward, done,  = env.step(action)\n",
    "        \n",
    "        \n",
    "        if done:\n",
    "            reward += env.calculate_expected_final_reward(agent.gamma, MAX_STEPS, current_step=i)\n",
    "            # if env._good_final_state():\n",
    "            #     reward += 100\n",
    "        episode_reward += reward\n",
    "        \n",
    "        if UPDATE_ONLINE:\n",
    "            loss = agent.online_update((state, action, reward, next_state, done))\n",
    "            if wandbsave:\n",
    "                wandb.log({'loss': loss})\n",
    "        else:\n",
    "            memory.push(state, action, reward, next_state, done)\n",
    "            if memory.__len__() > BATCH_SIZE:\n",
    "                sample = memory.sample(BATCH_SIZE)\n",
    "                loss = agent.update(sample)\n",
    "                if wandbsave:\n",
    "                    wandb.log({'loss': loss})    \n",
    "        \n",
    "        state = next_state\n",
    "        frame_idx += 1 \n",
    "        if done:\n",
    "            break\n",
    "        \n",
    "    rewards.append(episode_reward)\n",
    "    mean_rewards.append(np.mean(rewards[-50:]))\n",
    "    \n",
    "    #if not UPDATE_ONLINE:\n",
    "    if SCHEDULER[0]:\n",
    "        scheduler.step()\n",
    "    \n",
    "    if wandbsave:\n",
    "        wandb.log({'episode_reward':episode_reward})\n",
    "        if episodes%200==0:\n",
    "                plot_test_trajectory(env, agent)\n",
    "            \n",
    "    else:\n",
    "        if episodes%10==0:\n",
    "            plot(frame_idx, mean_rewards)\n",
    "            if episodes%30==0:\n",
    "                plot_test_trajectory(env, agent)\n",
    "\n",
    "if wandbsave:\n",
    "    wandb.run.summary[\"mean_reward\"] = np.mean(rewards)\n",
    "    wandb.run.summary[\"top_reward\"]= max(rewards)\n",
    "    wandb.finish()"
   ]
  },
  {
   "cell_type": "code",
   "execution_count": null,
   "id": "47ebd9df-ccbd-40d6-b69a-d3ed586be0be",
   "metadata": {},
   "outputs": [],
   "source": [
    "plot_test_trajectory(env, agent)"
   ]
  },
  {
   "cell_type": "code",
   "execution_count": null,
   "id": "2214d00f-48f9-47ae-9dbb-5d106e9ea03d",
   "metadata": {},
   "outputs": [],
   "source": []
  }
 ],
 "metadata": {
  "kernelspec": {
   "display_name": "Python 3 (ipykernel)",
   "language": "python",
   "name": "python3"
  },
  "language_info": {
   "codemirror_mode": {
    "name": "ipython",
    "version": 3
   },
   "file_extension": ".py",
   "mimetype": "text/x-python",
   "name": "python",
   "nbconvert_exporter": "python",
   "pygments_lexer": "ipython3",
   "version": "3.8.12"
  }
 },
 "nbformat": 4,
 "nbformat_minor": 5
}
