{
 "cells": [
  {
   "cell_type": "code",
   "execution_count": 3,
   "id": "1921d287-c855-4c16-8f1b-9252780512a7",
   "metadata": {},
   "outputs": [],
   "source": [
    "import gym\n",
    "from tqdm.notebook import tqdm\n",
    "import numpy as np\n",
    "from IPython.display import clear_output\n",
    "import matplotlib.pyplot as plt\n",
    "from importlib import reload\n",
    "import wandb\n",
    "import torch\n",
    "\n",
    "from Learning.utils import ReplayBuffer, plot\n",
    "import Learning.agents as ag\n",
    "import Envs.AYS.AYS_Environment as ays"
   ]
  },
  {
   "cell_type": "code",
   "execution_count": 9,
   "id": "d3a04f72-5caa-43bf-9ef7-c0e92f741a84",
   "metadata": {},
   "outputs": [
    {
     "name": "stdout",
     "output_type": "stream",
     "text": [
      "Init AYS Environment! \n",
      "Reward Type: PB \n",
      "Sustainability Boundaries [A_PB, Y_SF, S_ren]:  [3.45e+02 4.00e+13 0.00e+00]\n"
     ]
    },
    {
     "name": "stderr",
     "output_type": "stream",
     "text": [
      "\u001b[34m\u001b[1mwandb\u001b[0m: Currently logged in as: \u001b[33mtheowolf\u001b[0m (\u001b[33mclimate_policy_optim\u001b[0m). Use \u001b[1m`wandb login --relogin`\u001b[0m to force relogin\n"
     ]
    },
    {
     "data": {
      "text/html": [
       "wandb version 0.12.21 is available!  To upgrade, please run:\n",
       " $ pip install wandb --upgrade"
      ],
      "text/plain": [
       "<IPython.core.display.HTML object>"
      ]
     },
     "metadata": {},
     "output_type": "display_data"
    },
    {
     "data": {
      "text/html": [
       "Tracking run with wandb version 0.12.19"
      ],
      "text/plain": [
       "<IPython.core.display.HTML object>"
      ]
     },
     "metadata": {},
     "output_type": "display_data"
    },
    {
     "data": {
      "text/html": [
       "Run data is saved locally in <code>C:\\Users\\theod\\PycharmProjects\\climate_policy_thesis\\climate_policy_RL\\classes\\wandb\\run-20220710_132045-4fvig177</code>"
      ],
      "text/plain": [
       "<IPython.core.display.HTML object>"
      ]
     },
     "metadata": {},
     "output_type": "display_data"
    },
    {
     "data": {
      "text/html": [
       "Syncing run <strong><a href=\"https://wandb.ai/climate_policy_optim/AYS_learning/runs/4fvig177\" target=\"_blank\">AYS_actor_critic4</a></strong> to <a href=\"https://wandb.ai/climate_policy_optim/AYS_learning\" target=\"_blank\">Weights & Biases</a> (<a href=\"https://wandb.me/run\" target=\"_blank\">docs</a>)<br/>"
      ],
      "text/plain": [
       "<IPython.core.display.HTML object>"
      ]
     },
     "metadata": {},
     "output_type": "display_data"
    }
   ],
   "source": [
    "UPDATE_ONLINE = False\n",
    "BATCH_SIZE = 128\n",
    "MAX_EPISODES = 5000\n",
    "RANDOM_EXPERIENCE = 0\n",
    "LEARNING_RATE = 3e-4\n",
    "BUFFER_SIZE = 10000\n",
    "REWARD_TYPE = 'PB'\n",
    "DT = 1\n",
    "SCHEDULER = (False, 1000, 0.5)\n",
    "\n",
    "wandbsave = True\n",
    "\n",
    "config = {\n",
    "    \"learning_rate\": LEARNING_RATE,\n",
    "    \"max_episodes\": MAX_EPISODES,\n",
    "    \"batch_size\": BATCH_SIZE, \n",
    "    \"online_updating\": UPDATE_ONLINE,\n",
    "    \"random_experience\": RANDOM_EXPERIENCE,\n",
    "    \"buffer_size\": BUFFER_SIZE,\n",
    "    \"reward_type\": REWARD_TYPE,\n",
    "    \"dt\": DT,\n",
    "    \"scheduler\": SCHEDULER\n",
    "}\n",
    "\n",
    "env = ays.AYS_Environment(dt=DT, reward_type=REWARD_TYPE)\n",
    "state_dim = len(env.observation_space)\n",
    "action_dim = len(env.action_space)\n",
    "\n",
    "reload(ag)\n",
    "memory = ReplayBuffer(BUFFER_SIZE)\n",
    "agent = ag.ActorCritic(state_dim, action_dim, alpha=LEARNING_RATE)\n",
    "\n",
    "scheduler = torch.optim.lr_scheduler.StepLR(agent.optimizer, step_size=SCHEDULER[1], gamma=SCHEDULER[2])\n",
    "\n",
    "if wandbsave:\n",
    "    wandb.init(name=\"AYS_actor_critic4\",config=config,\n",
    "               entity=\"climate_policy_optim\",  project=\"AYS_learning\")\n",
    "    wandb.watch(agent.ac_net)"
   ]
  },
  {
   "cell_type": "code",
   "execution_count": null,
   "id": "eb3f1eba-cec8-4ad8-93f0-4890234f411f",
   "metadata": {},
   "outputs": [
    {
     "data": {
      "application/vnd.jupyter.widget-view+json": {
       "model_id": "1e1e8ca02c2e4a9e97b49f97c7fee440",
       "version_major": 2,
       "version_minor": 0
      },
      "text/plain": [
       "  0%|          | 0/5000 [00:00<?, ?it/s]"
      ]
     },
     "metadata": {},
     "output_type": "display_data"
    }
   ],
   "source": [
    "rewards = []\n",
    "mean_rewards = []\n",
    "frame_idx = 0\n",
    "np.random.seed(1)\n",
    "\n",
    "for episodes in tqdm(range(MAX_EPISODES)):\n",
    "    state = env.reset()\n",
    "    episode_reward = 0\n",
    "    done = False\n",
    "    \n",
    "    while not done:\n",
    "        if episodes>RANDOM_EXPERIENCE:\n",
    "            action = agent.get_action(state)\n",
    "        else:\n",
    "            action = np.random.choice(action_dim)\n",
    "            \n",
    "        next_state, reward, done,  = env.step(action)\n",
    "        \n",
    "        episode_reward += reward\n",
    "        \n",
    "        if UPDATE_ONLINE:\n",
    "            loss = agent.online_update((state, action, reward, next_state, done))\n",
    "            if wandbsave:\n",
    "                wandb.log({'loss': loss})\n",
    "        else:\n",
    "            memory.push(state, action, reward, next_state, done)\n",
    "            if memory.__len__() > BATCH_SIZE:\n",
    "                sample = memory.sample(BATCH_SIZE)\n",
    "                loss = agent.update(sample)\n",
    "            if wandbsave:\n",
    "                wandb.log({'loss': loss})    \n",
    "        \n",
    "        state = next_state\n",
    "        frame_idx += 1 \n",
    "    \n",
    "    rewards.append(episode_reward)\n",
    "    mean_rewards.append(np.mean(rewards[-50:]))\n",
    "    \n",
    "    #if not UPDATE_ONLINE:\n",
    "    if SCHEDULER[0]:\n",
    "        scheduler.step()\n",
    "    \n",
    "    if wandbsave:\n",
    "         wandb.log({'episode_reward':episode_reward})\n",
    "    else:\n",
    "        if frame_idx % 100:\n",
    "            plot(frame_idx, mean_rewards)\n",
    "\n",
    "if wandbsave:\n",
    "    wandb.finish()"
   ]
  },
  {
   "cell_type": "code",
   "execution_count": 24,
   "id": "e54a27d9-b169-4755-bedc-4910e589fcd6",
   "metadata": {},
   "outputs": [
    {
     "data": {
      "text/plain": [
       "[<matplotlib.lines.Line2D at 0x1f6c3bbab20>]"
      ]
     },
     "execution_count": 24,
     "metadata": {},
     "output_type": "execute_result"
    },
    {
     "data": {
      "image/png": "[encoded data removed]",
      "text/plain": [
       "<Figure size 432x288 with 1 Axes>"
      ]
     },
     "metadata": {
      "needs_background": "light"
     },
     "output_type": "display_data"
    }
   ],
   "source": [
    "plt.plot(mean_rewards)"
   ]
  },
  {
   "cell_type": "code",
   "execution_count": null,
   "id": "47ebd9df-ccbd-40d6-b69a-d3ed586be0be",
   "metadata": {},
   "outputs": [],
   "source": []
  }
 ],
 "metadata": {
  "kernelspec": {
   "display_name": "Python 3 (ipykernel)",
   "language": "python",
   "name": "python3"
  },
  "language_info": {
   "codemirror_mode": {
    "name": "ipython",
    "version": 3
   },
   "file_extension": ".py",
   "mimetype": "text/x-python",
   "name": "python",
   "nbconvert_exporter": "python",
   "pygments_lexer": "ipython3",
   "version": "3.8.12"
  }
 },
 "nbformat": 4,
 "nbformat_minor": 5
}
